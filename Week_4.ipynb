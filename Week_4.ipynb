{
 "cells": [
  {
   "cell_type": "markdown",
   "metadata": {},
   "source": [
    "## 1.Introduction "
   ]
  },
  {
   "cell_type": "markdown",
   "metadata": {},
   "source": [
    "### 1.1 Background "
   ]
  },
  {
   "cell_type": "markdown",
   "metadata": {},
   "source": [
    "Istanbul, Turkey Situated in the city and one of the country's 81 provinces. It is the most populous, economical, historical and socio-culturally important city in the country. The city ranks first in Europe and sixth in the world in terms of economic size, taking into account the municipal boundaries in terms of population.\n",
    "  Within its borders, there are 40 municipalities together with the metropolitan municipality. If you want to invest in such a large and developed city, how to proceed will be examined."
   ]
  },
  {
   "cell_type": "markdown",
   "metadata": {},
   "source": [
    "### 1.2 Problem "
   ]
  },
  {
   "cell_type": "markdown",
   "metadata": {},
   "source": [
    "If we want to invest in Istanbul province, which sector should we invest in which district? Since there are differences between their districts, there will be different preferences regarding investment."
   ]
  },
  {
   "cell_type": "markdown",
   "metadata": {},
   "source": [
    "If we want to invest in Istanbul province, which sector should we invest in which district? Since there are differences between their districts, there will be different preferences regarding investment. The places preferred by people will be determined from foursquare according to the districts. District coordinates of Istanbul province were obtained from http://dunya.arztalep.com/tr-TR/istanbul/istanbul-haritasi.aspx."
   ]
  },
  {
   "cell_type": "markdown",
   "metadata": {},
   "source": []
  }
 ],
 "metadata": {
  "kernelspec": {
   "display_name": "Python 3",
   "language": "python",
   "name": "python3"
  },
  "language_info": {
   "codemirror_mode": {
    "name": "ipython",
    "version": 3
   },
   "file_extension": ".py",
   "mimetype": "text/x-python",
   "name": "python",
   "nbconvert_exporter": "python",
   "pygments_lexer": "ipython3",
   "version": "3.7.6"
  }
 },
 "nbformat": 4,
 "nbformat_minor": 4
}
